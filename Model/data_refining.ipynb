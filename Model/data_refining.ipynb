{
 "cells": [
  {
   "cell_type": "code",
   "execution_count": null,
   "id": "aea421b0",
   "metadata": {},
   "outputs": [],
   "source": [
    "import numpy as np\n",
    "import pandas as pd"
   ]
  },
  {
   "cell_type": "code",
   "execution_count": 9,
   "id": "3c62b90c",
   "metadata": {},
   "outputs": [
    {
     "name": "stdout",
     "output_type": "stream",
     "text": [
      "(228, 558)\n"
     ]
    }
   ],
   "source": [
    "df= pd.read_csv('../Data/data_2000_2019.csv')\n",
    "\n",
    "# # Drop rows where dengue_cases are NA\n",
    "df = df[df['dengue_cases'].notna()]\n",
    "df = df[df['dengue_cases'] != 'NA']\n",
    "\n",
    "# Create a datetime column from year and month\n",
    "df['date']= pd.to_datetime(df[['year', 'month']].assign(day=1))\n",
    "\n",
    "# Pivot the table\n",
    "pivot_df = df.pivot(index='date', columns='micro_name', values='dengue_cases')\n",
    "\n",
    "pivot_df = pivot_df.sort_index()\n",
    "\n",
    "print(pivot_df.shape)\n",
    "pivot_df.to_csv(\"../Data/reshaped_dengue_data.csv\", index_label=\"date\")"
   ]
  },
  {
   "cell_type": "code",
   "execution_count": null,
   "id": "c63d08fc",
   "metadata": {},
   "outputs": [],
   "source": []
  }
 ],
 "metadata": {
  "kernelspec": {
   "display_name": "venv",
   "language": "python",
   "name": "python3"
  },
  "language_info": {
   "codemirror_mode": {
    "name": "ipython",
    "version": 3
   },
   "file_extension": ".py",
   "mimetype": "text/x-python",
   "name": "python",
   "nbconvert_exporter": "python",
   "pygments_lexer": "ipython3",
   "version": "3.12.3"
  }
 },
 "nbformat": 4,
 "nbformat_minor": 5
}
