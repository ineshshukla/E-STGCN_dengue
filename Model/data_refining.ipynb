{
 "cells": [
  {
   "cell_type": "code",
   "execution_count": 6,
   "id": "aea421b0",
   "metadata": {},
   "outputs": [],
   "source": [
    "import numpy as np\n",
    "import pandas as pd"
   ]
  },
  {
   "cell_type": "code",
   "execution_count": 7,
   "id": "3c62b90c",
   "metadata": {},
   "outputs": [
    {
     "name": "stdout",
     "output_type": "stream",
     "text": [
      "(228, 558)\n",
      "(558, 1)\n"
     ]
    }
   ],
   "source": [
    "df= pd.read_csv('../Data/data_2000_2019.csv')\n",
    "\n",
    "# # Drop rows where dengue_cases are NA\n",
    "df = df[df['dengue_cases'].notna()]\n",
    "df = df[df['dengue_cases'] != 'NA']\n",
    "\n",
    "# Create a datetime column from year and month\n",
    "df['date']= pd.to_datetime(df[['year', 'month']].assign(day=1))\n",
    "\n",
    "# Pivot the table\n",
    "pivot_df = df.pivot(index='date', columns='micro_name', values='dengue_cases')\n",
    "initial_date = pd.Timestamp('2001-01-01')\n",
    "initial_df = df[df['date'] == initial_date]\n",
    "\n",
    "# Now pivot to get population per micro_name at that date\n",
    "pop_df = initial_df.set_index('micro_name')[['population']]\n",
    "\n",
    "pivot_df = pivot_df.sort_index()\n",
    "\n",
    "print(pivot_df.shape)\n",
    "print(pop_df.shape)\n",
    "pop_df.to_csv(\"../Data/population_data.csv\", index_label=\"location\")\n",
    "pivot_df.to_csv(\"../Data/reshaped_dengue_data.csv\", index_label=\"date\")"
   ]
  },
  {
   "cell_type": "code",
   "execution_count": null,
   "id": "c63d08fc",
   "metadata": {},
   "outputs": [],
   "source": []
  }
 ],
 "metadata": {
  "kernelspec": {
   "display_name": "venv",
   "language": "python",
   "name": "python3"
  },
  "language_info": {
   "codemirror_mode": {
    "name": "ipython",
    "version": 3
   },
   "file_extension": ".py",
   "mimetype": "text/x-python",
   "name": "python",
   "nbconvert_exporter": "python",
   "pygments_lexer": "ipython3",
   "version": "3.12.3"
  }
 },
 "nbformat": 4,
 "nbformat_minor": 5
}
